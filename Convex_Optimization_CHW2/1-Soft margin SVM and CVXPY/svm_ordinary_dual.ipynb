{
  "nbformat": 4,
  "nbformat_minor": 0,
  "metadata": {
    "colab": {
      "provenance": [],
      "gpuType": "T4"
    },
    "kernelspec": {
      "name": "python3",
      "display_name": "Python 3"
    },
    "language_info": {
      "name": "python"
    },
    "accelerator": "GPU"
  },
  "cells": [
    {
      "cell_type": "code",
      "execution_count": null,
      "metadata": {
        "id": "Fy2W07h8Th8J",
        "colab": {
          "base_uri": "https://localhost:8080/"
        },
        "outputId": "c8a9fe5e-65da-44d7-b681-991dec9fa28b"
      },
      "outputs": [
        {
          "output_type": "stream",
          "name": "stdout",
          "text": [
            "Optimal w: [-1.00209063  3.64672864]\n",
            "Optimal b: -1.8672371699699344\n"
          ]
        }
      ],
      "source": [
        "# Since the cvxpy module is not available, we will provide a detailed guide for solving the problem in the user's own environment.\n",
        "\n",
        "# Guide for solving Soft-Margin SVM using CVXPY with C = 1\n",
        "\n",
        "import numpy as np\n",
        "import cvxpy as cp\n",
        "import pandas as pd\n",
        "\n",
        "# Load the dataset, skip the first row\n",
        "data = pd.read_csv('/content/drive/MyDrive/Colab Notebooks/svm_train.txt', header=None, delim_whitespace=True, skiprows=1)\n",
        "\n",
        "# The rest of your code remains unchanged\n",
        "X = data.iloc[:, :-1].values  # Feature vectors\n",
        "y = data.iloc[:, -1].values  # Labels\n",
        "\n",
        "\n",
        "# Number of data points and features\n",
        "n, d = X.shape\n",
        "\n",
        "# Define the variables for CVXPY\n",
        "w = cp.Variable(d)  # Weight vector\n",
        "b = cp.Variable()   # Bias term\n",
        "xi = cp.Variable(n) # Slack variables\n",
        "\n",
        "# Regularization parameter\n",
        "C = 1\n",
        "\n",
        "# Formulate the objective function\n",
        "objective = cp.Minimize(0.5 * cp.norm(w, 2)**2 + C * cp.sum(xi))\n",
        "\n",
        "# Add the constraints\n",
        "constraints = [cp.multiply(y, X @ w + b) >= 1 - xi, xi >= 0]\n",
        "\n",
        "# Define and solve the problem\n",
        "problem = cp.Problem(objective, constraints)\n",
        "problem.solve()\n",
        "\n",
        "# Extract the optimal values\n",
        "w_opt = w.value\n",
        "b_opt = b.value\n",
        "\n",
        "# Print the optimal w and b\n",
        "print(\"Optimal w:\", w_opt)\n",
        "print(\"Optimal b:\", b_opt)\n",
        "\n"
      ]
    },
    {
      "cell_type": "code",
      "source": [
        "from scipy.optimize import minimize\n",
        "import numpy as np\n",
        "import pandas as pd\n",
        "\n",
        "data = pd.read_csv('/content/drive/MyDrive/Colab Notebooks/svm_train.txt', header=None, delim_whitespace=True, skiprows=1)\n",
        "# Extracting features and labels from the data\n",
        "X = data.iloc[:, :-1].values\n",
        "y = data.iloc[:, -1].values\n",
        "\n",
        "# Number of data points\n",
        "n = X.shape[0]\n",
        "\n",
        "from cvxopt import matrix, solvers\n",
        "\n",
        "# Defining the linear kernel function\n",
        "def linear_kernel(x1, x2):\n",
        "    return np.dot(x1, x2)\n",
        "\n",
        "# Function for Soft-Margin SVM Dual formation\n",
        "def soft_margin_svm_dual(X, y, C):\n",
        "    n_samples, n_features = X.shape\n",
        "\n",
        "    # Calculating the Gram matrix\n",
        "    K = np.zeros((n_samples, n_samples))\n",
        "    for i in range(n_samples):\n",
        "        for j in range(n_samples):\n",
        "            K[i, j] = linear_kernel(X[i], X[j])\n",
        "\n",
        "    # Converting into cvxopt format\n",
        "    P = matrix(np.outer(y, y) * K)\n",
        "    q = matrix(-np.ones(n_samples))\n",
        "    A = matrix(y, (1, n_samples), 'd')\n",
        "    b = matrix(0.0)\n",
        "    G = matrix(np.vstack((-np.eye(n_samples), np.eye(n_samples))))\n",
        "    h = matrix(np.hstack((np.zeros(n_samples), np.ones(n_samples) * C)))\n",
        "\n",
        "    # Solving the quadratic programming problem\n",
        "    solvers.options['show_progress'] = False\n",
        "    solution = solvers.qp(P, q, G, h, A, b)\n",
        "\n",
        "    # Extracting the Lagrange multipliers\n",
        "    alphas = np.ravel(solution['x'])\n",
        "\n",
        "    # Support vectors have non zero lagrange multipliers\n",
        "    sv = alphas > 1e-5\n",
        "    ind = np.arange(len(alphas))[sv]\n",
        "    alpha_sv = alphas[sv]\n",
        "    sv_x = X[sv]\n",
        "    sv_y = y[sv]\n",
        "\n",
        "    # Calculating the intercept\n",
        "    b = np.mean([sv_y[i] - np.sum(alpha_sv * sv_y * K[ind[i], sv]) for i in range(len(alpha_sv))])\n",
        "\n",
        "    # Calculating the weight vector w\n",
        "    w = np.sum(alpha_sv[:, np.newaxis] * sv_y[:, np.newaxis] * sv_x, axis=0)\n",
        "\n",
        "    return w, b\n",
        "\n",
        "# Regularization parameter\n",
        "C = 1.0\n",
        "\n",
        "# Solving for w and b\n",
        "w, b = soft_margin_svm_dual(X, y, C)\n",
        "# Print the optimal w and b\n",
        "print(\"Optimal w:\", w)\n",
        "print(\"Optimal b:\", b)\n"
      ],
      "metadata": {
        "id": "CTvTwdceUEPy",
        "colab": {
          "base_uri": "https://localhost:8080/"
        },
        "outputId": "75336362-fb54-4ab3-a8a8-15382e7652f5"
      },
      "execution_count": 7,
      "outputs": [
        {
          "output_type": "stream",
          "name": "stdout",
          "text": [
            "Optimal w: [-1.00209655  3.64671035]\n",
            "Optimal b: -1.9006552904024685\n"
          ]
        }
      ]
    }
  ]
}